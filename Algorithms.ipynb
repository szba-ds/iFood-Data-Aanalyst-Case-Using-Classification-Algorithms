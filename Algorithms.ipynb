{
 "cells": [
  {
   "cell_type": "code",
   "execution_count": 1,
   "metadata": {
    "id": "s7R15nh99zgQ"
   },
   "outputs": [],
   "source": [
    "import pandas as pd\n",
    "import numpy as np\n",
    "import matplotlib.pyplot as plt\n",
    "from sklearn.model_selection import GridSearchCV\n",
    "from sklearn.metrics import classification_report, confusion_matrix\n",
    "from sklearn.tree import DecisionTreeClassifier\n",
    "from sklearn import metrics\n",
    "from sklearn.model_selection import train_test_split\n",
    "from sklearn.linear_model import LogisticRegression\n",
    "from sklearn.preprocessing import StandardScaler, RobustScaler, MinMaxScaler\n",
    "from sklearn.neighbors import KNeighborsClassifier\n",
    "from sklearn.ensemble import RandomForestClassifier"
   ]
  },
  {
   "cell_type": "markdown",
   "metadata": {},
   "source": [
    "## Read Preprocessed.csv"
   ]
  },
  {
   "cell_type": "code",
   "execution_count": 3,
   "metadata": {},
   "outputs": [],
   "source": [
    "df = pd.read_csv(\"Preprocessed.csv\")"
   ]
  },
  {
   "cell_type": "markdown",
   "metadata": {
    "id": "jufB6O-MEP2l"
   },
   "source": [
    "## Train-test split\n"
   ]
  },
  {
   "cell_type": "code",
   "execution_count": 4,
   "metadata": {
    "id": "3zsfN48z-se7"
   },
   "outputs": [],
   "source": [
    "X = df.drop(columns=\"AcceptedCmp6\")\n",
    "y = df[\"AcceptedCmp6\"]\n",
    "X_train, X_test, y_train, y_test = train_test_split(X,y, random_state=42)"
   ]
  },
  {
   "cell_type": "markdown",
   "metadata": {
    "id": "TCrff-DvH6MI"
   },
   "source": [
    "##Scale"
   ]
  },
  {
   "cell_type": "code",
   "execution_count": null,
   "metadata": {
    "id": "6n-Sv7AMH559"
   },
   "outputs": [],
   "source": [
    "scaler = MinMaxScaler()\n",
    "\n",
    "X_train_scaled_array = scaler.fit_transform(X_train)\n",
    "X_test_scaled_array = scaler.transform(X_test)\n",
    "\n",
    "X_train_scaled= pd.DataFrame(X_train_scaled_array, columns=X_train.columns, index=X_train.index)\n",
    "X_test_scaled= pd.DataFrame(X_test_scaled_array, columns=X_test.columns, index=X_test.index)"
   ]
  },
  {
   "cell_type": "markdown",
   "metadata": {
    "id": "k4nS8z5WEUmi"
   },
   "source": [
    "##Decision Tree"
   ]
  },
  {
   "cell_type": "code",
   "execution_count": null,
   "metadata": {
    "colab": {
     "base_uri": "https://localhost:8080/"
    },
    "executionInfo": {
     "elapsed": 14,
     "status": "ok",
     "timestamp": 1734277010963,
     "user": {
      "displayName": "Szabolcs Bayer",
      "userId": "04758277977212059458"
     },
     "user_tz": -60
    },
    "id": "ejkBxNY4_X49",
    "outputId": "51b60325-5e8b-4c41-8bbe-23964dbfaf21"
   },
   "outputs": [
    {
     "name": "stdout",
     "output_type": "stream",
     "text": [
      "Accuracy on training set: 0.9934768427919113\n",
      "Accuracy on test set: 0.80859375\n"
     ]
    }
   ],
   "source": [
    "tree = DecisionTreeClassifier( random_state = 42)\n",
    "tree.fit(X_train, y_train)\n",
    "print(f\"Accuracy on training set: {tree.score(X_train, y_train)}\")\n",
    "y_pred=tree.predict(X_test)\n",
    "print(f\"Accuracy on test set: {metrics.accuracy_score(y_test, y_pred)}\")"
   ]
  },
  {
   "cell_type": "markdown",
   "metadata": {
    "id": "Me0CbSZo_rA8"
   },
   "source": [
    "# Define Profit Function"
   ]
  },
  {
   "cell_type": "code",
   "execution_count": null,
   "metadata": {
    "id": "JZcyIiNk_cak"
   },
   "outputs": [],
   "source": [
    "call_cost = 3  # Cost per call in $\n",
    "sale_revenue = 11  # Revenue per sale in $\n",
    "false_positive_cost = call_cost  # Cost per False Positive in $\n",
    "\n",
    "def calculate_profit(y_test_set, y_predict_proba_set, threshold):\n",
    "    # Adjust predictions based on threshold\n",
    "    y_predict_adjusted = (y_predict_proba_set >= threshold).astype(int)\n",
    "\n",
    "    # Confusion Matrix: TN, FP, FN, TP\n",
    "    tn, fp, fn, tp = confusion_matrix(y_test_set, y_predict_adjusted).ravel()\n",
    "    #https://scikit-learn.org/1.5/modules/generated/sklearn.metrics.confusion_matrix.html\n",
    "\n",
    "    # Calculate profit:\n",
    "    profit_from_sales = tp * (sale_revenue - call_cost)\n",
    "    loss_from_wasted_calls = fp * false_positive_cost\n",
    "    total_profit = profit_from_sales - loss_from_wasted_calls\n",
    "    return total_profit, tn, fp, fn, tp, threshold\n"
   ]
  },
  {
   "cell_type": "markdown",
   "metadata": {
    "id": "51wjvX0c_xNl"
   },
   "source": [
    "# Define function for finding the best threshold"
   ]
  },
  {
   "cell_type": "code",
   "execution_count": null,
   "metadata": {
    "id": "VLRPVK11_oTo"
   },
   "outputs": [],
   "source": [
    "def evaluate_thresholds(best_decision_tree_model, X_train, y_train, X_test, y_test):\n",
    "    # Get probabilities for the positive class (class=1)\n",
    "    y_train_prob = best_decision_tree_model.predict_proba(X_train)[:, 1]\n",
    "    y_test_prob = best_decision_tree_model.predict_proba(X_test)[:, 1]\n",
    "\n",
    "    thresholds = np.arange(0.1, 1.0, 0.05)  # Try different thresholds from 0.1 to 1.0\n",
    "    best_profit = float('-inf') #If it's set to zero runtime error\n",
    "    best_threshold = 0\n",
    "    best_params = None\n",
    "\n",
    "    for threshold in thresholds:\n",
    "        # Calculating profit on training data\n",
    "        profit, tn, fp, fn, tp, th = calculate_profit(y_train, y_train_prob, threshold)\n",
    "        print(f\"Threshold: {th:.2f} -> Profit: {profit:.2f}, TP: {tp}, FP: {fp}, FN {fn}, TN {tn} ,Threshold: {th:.2f} \")\n",
    "\n",
    "        # Store the best threshold with maximum profit\n",
    "        if profit > best_profit:\n",
    "            best_profit = profit\n",
    "            best_threshold = th\n",
    "            best_params = (tn, fp, fn, tp, th)\n",
    "\n",
    "    # Calculate profit for test data\n",
    "    profit_test, tn_test, fp_test, fn_test, tp_test, th = calculate_profit(y_test, y_test_prob, best_threshold)\n",
    "\n",
    "    # Calculate profit for train data\n",
    "    profit_train, tn_train, fp_train, fn_train, tp_train, th = calculate_profit(y_train, y_train_prob, best_threshold)\n",
    "\n",
    "    return {\n",
    "        \"Best Threshold\": best_threshold,\n",
    "        \"Best profit on training set\": profit_train,\n",
    "        \"Best profit on test set\": profit_test,\n",
    "        \"Confusion matrix of training set\": (tn_train, fp_train, fn_train, tp_train),\n",
    "        \"Confusion matrix of test set\": (tn_test, fp_test, fn_test, tp_test)\n",
    "    }\n"
   ]
  },
  {
   "cell_type": "markdown",
   "metadata": {
    "id": "XyiXFPhotJod"
   },
   "source": [
    "# Decision Tree without Tuning"
   ]
  },
  {
   "cell_type": "code",
   "execution_count": null,
   "metadata": {
    "colab": {
     "base_uri": "https://localhost:8080/"
    },
    "executionInfo": {
     "elapsed": 268,
     "status": "ok",
     "timestamp": 1734277011222,
     "user": {
      "displayName": "Szabolcs Bayer",
      "userId": "04758277977212059458"
     },
     "user_tz": -60
    },
    "id": "fPnhFO5StO9V",
    "outputId": "ff9851ca-b16a-4378-b26d-7e314998a308"
   },
   "outputs": [
    {
     "name": "stdout",
     "output_type": "stream",
     "text": [
      "Accuracy on training set: 0.9934768427919113\n",
      "Accuracy on test set: 0.80859375 \n",
      "\n",
      "Threshold: 0.10 -> Profit: 1794.00, TP: 228, FP: 10, FN 0, TN 1295 ,Threshold: 0.10 \n",
      "Threshold: 0.15 -> Profit: 1794.00, TP: 228, FP: 10, FN 0, TN 1295 ,Threshold: 0.15 \n",
      "Threshold: 0.20 -> Profit: 1794.00, TP: 228, FP: 10, FN 0, TN 1295 ,Threshold: 0.20 \n",
      "Threshold: 0.25 -> Profit: 1794.00, TP: 228, FP: 10, FN 0, TN 1295 ,Threshold: 0.25 \n",
      "Threshold: 0.30 -> Profit: 1794.00, TP: 228, FP: 10, FN 0, TN 1295 ,Threshold: 0.30 \n",
      "Threshold: 0.35 -> Profit: 1794.00, TP: 228, FP: 10, FN 0, TN 1295 ,Threshold: 0.35 \n",
      "Threshold: 0.40 -> Profit: 1794.00, TP: 228, FP: 10, FN 0, TN 1295 ,Threshold: 0.40 \n",
      "Threshold: 0.45 -> Profit: 1794.00, TP: 228, FP: 10, FN 0, TN 1295 ,Threshold: 0.45 \n",
      "Threshold: 0.50 -> Profit: 1744.00, TP: 218, FP: 0, FN 10, TN 1305 ,Threshold: 0.50 \n",
      "Threshold: 0.55 -> Profit: 1744.00, TP: 218, FP: 0, FN 10, TN 1305 ,Threshold: 0.55 \n",
      "Threshold: 0.60 -> Profit: 1744.00, TP: 218, FP: 0, FN 10, TN 1305 ,Threshold: 0.60 \n",
      "Threshold: 0.65 -> Profit: 1744.00, TP: 218, FP: 0, FN 10, TN 1305 ,Threshold: 0.65 \n",
      "Threshold: 0.70 -> Profit: 1744.00, TP: 218, FP: 0, FN 10, TN 1305 ,Threshold: 0.70 \n",
      "Threshold: 0.75 -> Profit: 1744.00, TP: 218, FP: 0, FN 10, TN 1305 ,Threshold: 0.75 \n",
      "Threshold: 0.80 -> Profit: 1744.00, TP: 218, FP: 0, FN 10, TN 1305 ,Threshold: 0.80 \n",
      "Threshold: 0.85 -> Profit: 1744.00, TP: 218, FP: 0, FN 10, TN 1305 ,Threshold: 0.85 \n",
      "Threshold: 0.90 -> Profit: 1744.00, TP: 218, FP: 0, FN 10, TN 1305 ,Threshold: 0.90 \n",
      "Threshold: 0.95 -> Profit: 1744.00, TP: 218, FP: 0, FN 10, TN 1305 ,Threshold: 0.95 \n"
     ]
    },
    {
     "data": {
      "text/plain": [
       "{'Best Threshold': 0.1,\n",
       " 'Best profit on training set': 1794,\n",
       " 'Best profit on test set': 119,\n",
       " 'Confusion matrix of training set': (1295, 10, 0, 228),\n",
       " 'Confusion matrix of test set': (370, 59, 46, 37)}"
      ]
     },
     "execution_count": 10,
     "metadata": {},
     "output_type": "execute_result"
    }
   ],
   "source": [
    "tree = DecisionTreeClassifier( random_state = 42)\n",
    "tree.fit(X_train, y_train)\n",
    "print(f\"Accuracy on training set: {tree.score(X_train, y_train)}\")\n",
    "y_pred=tree.predict(X_test)\n",
    "print(f\"Accuracy on test set: {metrics.accuracy_score(y_test, y_pred)} \\n\")\n",
    "\n",
    "evaluate_thresholds(tree, X_train, y_train, X_test, y_test)"
   ]
  },
  {
   "cell_type": "markdown",
   "metadata": {
    "id": "5whQFqPS_8MX"
   },
   "source": [
    "# Decision Tree Tuned Based on F1"
   ]
  },
  {
   "cell_type": "code",
   "execution_count": null,
   "metadata": {
    "colab": {
     "base_uri": "https://localhost:8080/"
    },
    "executionInfo": {
     "elapsed": 11174,
     "status": "ok",
     "timestamp": 1734277022393,
     "user": {
      "displayName": "Szabolcs Bayer",
      "userId": "04758277977212059458"
     },
     "user_tz": -60
    },
    "id": "iQJFg9I-_lJ8",
    "outputId": "a99d7793-9ad5-45da-8a49-cfc54e2881da"
   },
   "outputs": [
    {
     "name": "stdout",
     "output_type": "stream",
     "text": [
      "Best Parameters: {'criterion': 'entropy', 'max_depth': 5, 'min_samples_leaf': 5, 'min_samples_split': 20}\n",
      "Accuracy on training set:  0.8499673842139596\n",
      "Accuracy on test set: 0.79296875 \n",
      "\n",
      "Threshold: 0.10 -> Profit: -426.00, TP: 228, FP: 750, FN 0, TN 555 ,Threshold: 0.10 \n",
      "Threshold: 0.15 -> Profit: -426.00, TP: 228, FP: 750, FN 0, TN 555 ,Threshold: 0.15 \n",
      "Threshold: 0.20 -> Profit: -80.00, TP: 224, FP: 624, FN 4, TN 681 ,Threshold: 0.20 \n",
      "Threshold: 0.25 -> Profit: -80.00, TP: 224, FP: 624, FN 4, TN 681 ,Threshold: 0.25 \n",
      "Threshold: 0.30 -> Profit: 160.00, TP: 218, FP: 528, FN 10, TN 777 ,Threshold: 0.30 \n",
      "Threshold: 0.35 -> Profit: 160.00, TP: 218, FP: 528, FN 10, TN 777 ,Threshold: 0.35 \n",
      "Threshold: 0.40 -> Profit: 338.00, TP: 208, FP: 442, FN 20, TN 863 ,Threshold: 0.40 \n",
      "Threshold: 0.45 -> Profit: 859.00, TP: 173, FP: 175, FN 55, TN 1130 ,Threshold: 0.45 \n",
      "Threshold: 0.50 -> Profit: 859.00, TP: 173, FP: 175, FN 55, TN 1130 ,Threshold: 0.50 \n",
      "Threshold: 0.55 -> Profit: 909.00, TP: 165, FP: 137, FN 63, TN 1168 ,Threshold: 0.55 \n",
      "Threshold: 0.60 -> Profit: 909.00, TP: 165, FP: 137, FN 63, TN 1168 ,Threshold: 0.60 \n",
      "Threshold: 0.65 -> Profit: 909.00, TP: 165, FP: 137, FN 63, TN 1168 ,Threshold: 0.65 \n",
      "Threshold: 0.70 -> Profit: 910.00, TP: 161, FP: 126, FN 67, TN 1179 ,Threshold: 0.70 \n",
      "Threshold: 0.75 -> Profit: 894.00, TP: 153, FP: 110, FN 75, TN 1195 ,Threshold: 0.75 \n",
      "Threshold: 0.80 -> Profit: 854.00, TP: 142, FP: 94, FN 86, TN 1211 ,Threshold: 0.80 \n",
      "Threshold: 0.85 -> Profit: 628.00, TP: 89, FP: 28, FN 139, TN 1277 ,Threshold: 0.85 \n",
      "Threshold: 0.90 -> Profit: 557.00, TP: 76, FP: 17, FN 152, TN 1288 ,Threshold: 0.90 \n",
      "Threshold: 0.95 -> Profit: 381.00, TP: 48, FP: 1, FN 180, TN 1304 ,Threshold: 0.95 \n"
     ]
    },
    {
     "data": {
      "text/plain": [
       "{'Best Threshold': 0.7000000000000002,\n",
       " 'Best profit on training set': 910,\n",
       " 'Best profit on test set': 251,\n",
       " 'Confusion matrix of training set': (1179, 126, 67, 161),\n",
       " 'Confusion matrix of test set': (366, 63, 28, 55)}"
      ]
     },
     "execution_count": 11,
     "metadata": {},
     "output_type": "execute_result"
    }
   ],
   "source": [
    "decision_tree_tuned = DecisionTreeClassifier(random_state=42,class_weight = \"balanced\")\n",
    "param_grid = {\n",
    "    'max_depth': [2,3,5,6,7],\n",
    "    'criterion': ['gini', 'entropy'],\n",
    "    'min_samples_split': [2, 10, 20, 25],\n",
    "    'min_samples_leaf': [1, 5, 10]\n",
    "}\n",
    "grid_search = GridSearchCV(decision_tree_tuned, param_grid, cv = 5 , scoring = 'f1')\n",
    "grid_search.fit(X_train, y_train)\n",
    "\n",
    "# Get the best parameters and model\n",
    "best_decision_tree_model = grid_search.best_estimator_\n",
    "print(\"Best Parameters:\", grid_search.best_params_)\n",
    "\n",
    "# Use the best model to make predictions on the test set\n",
    "y_pred = best_decision_tree_model.predict(X_test)\n",
    "\n",
    "training_score = best_decision_tree_model.score(X_train, y_train)\n",
    "print(\"Accuracy on training set: \", training_score)\n",
    "print(f\"Accuracy on test set: {metrics.accuracy_score(y_test, y_pred)} \\n\")\n",
    "\n",
    "\n",
    "evaluate_thresholds(best_decision_tree_model,  X_train, y_train, X_test, y_test)"
   ]
  },
  {
   "cell_type": "markdown",
   "metadata": {
    "id": "_NuX6KMSmUAi"
   },
   "source": [
    "# Logistic Regression without tuning\n"
   ]
  },
  {
   "cell_type": "code",
   "execution_count": null,
   "metadata": {
    "colab": {
     "base_uri": "https://localhost:8080/"
    },
    "executionInfo": {
     "elapsed": 18,
     "status": "ok",
     "timestamp": 1734277022394,
     "user": {
      "displayName": "Szabolcs Bayer",
      "userId": "04758277977212059458"
     },
     "user_tz": -60
    },
    "id": "x2XGmHR8xAMu",
    "outputId": "2ee26b37-0e6d-4205-f7ce-2f93dae88bcf"
   },
   "outputs": [
    {
     "name": "stdout",
     "output_type": "stream",
     "text": [
      "Accuracy on training set: 0.8545335942596216\n",
      "Accuracy on test set: 0.837890625\n",
      "\n",
      "Threshold: 0.10 -> Profit: -551.00, TP: 179, FP: 661, FN 49, TN 644 ,Threshold: 0.10 \n",
      "Threshold: 0.15 -> Profit: -105.00, TP: 123, FP: 363, FN 105, TN 942 ,Threshold: 0.15 \n",
      "Threshold: 0.20 -> Profit: 148.00, TP: 98, FP: 212, FN 130, TN 1093 ,Threshold: 0.20 \n",
      "Threshold: 0.25 -> Profit: 229.00, TP: 77, FP: 129, FN 151, TN 1176 ,Threshold: 0.25 \n",
      "Threshold: 0.30 -> Profit: 219.00, TP: 57, FP: 79, FN 171, TN 1226 ,Threshold: 0.30 \n",
      "Threshold: 0.35 -> Profit: 203.00, TP: 43, FP: 47, FN 185, TN 1258 ,Threshold: 0.35 \n",
      "Threshold: 0.40 -> Profit: 101.00, TP: 25, FP: 33, FN 203, TN 1272 ,Threshold: 0.40 \n",
      "Threshold: 0.45 -> Profit: 106.00, TP: 20, FP: 18, FN 208, TN 1287 ,Threshold: 0.45 \n",
      "Threshold: 0.50 -> Profit: 75.00, TP: 12, FP: 7, FN 216, TN 1298 ,Threshold: 0.50 \n",
      "Threshold: 0.55 -> Profit: 25.00, TP: 5, FP: 5, FN 223, TN 1300 ,Threshold: 0.55 \n",
      "Threshold: 0.60 -> Profit: -12.00, TP: 0, FP: 4, FN 228, TN 1301 ,Threshold: 0.60 \n",
      "Threshold: 0.65 -> Profit: -6.00, TP: 0, FP: 2, FN 228, TN 1303 ,Threshold: 0.65 \n",
      "Threshold: 0.70 -> Profit: -3.00, TP: 0, FP: 1, FN 228, TN 1304 ,Threshold: 0.70 \n",
      "Threshold: 0.75 -> Profit: -3.00, TP: 0, FP: 1, FN 228, TN 1304 ,Threshold: 0.75 \n",
      "Threshold: 0.80 -> Profit: -3.00, TP: 0, FP: 1, FN 228, TN 1304 ,Threshold: 0.80 \n",
      "Threshold: 0.85 -> Profit: 0.00, TP: 0, FP: 0, FN 228, TN 1305 ,Threshold: 0.85 \n",
      "Threshold: 0.90 -> Profit: 0.00, TP: 0, FP: 0, FN 228, TN 1305 ,Threshold: 0.90 \n",
      "Threshold: 0.95 -> Profit: 0.00, TP: 0, FP: 0, FN 228, TN 1305 ,Threshold: 0.95 \n"
     ]
    },
    {
     "name": "stderr",
     "output_type": "stream",
     "text": [
      "/usr/local/lib/python3.10/dist-packages/sklearn/linear_model/_logistic.py:469: ConvergenceWarning: lbfgs failed to converge (status=1):\n",
      "STOP: TOTAL NO. of ITERATIONS REACHED LIMIT.\n",
      "\n",
      "Increase the number of iterations (max_iter) or scale the data as shown in:\n",
      "    https://scikit-learn.org/stable/modules/preprocessing.html\n",
      "Please also refer to the documentation for alternative solver options:\n",
      "    https://scikit-learn.org/stable/modules/linear_model.html#logistic-regression\n",
      "  n_iter_i = _check_optimize_result(\n"
     ]
    },
    {
     "data": {
      "text/plain": [
       "{'Best Threshold': 0.25000000000000006,\n",
       " 'Best profit on training set': 229,\n",
       " 'Best profit on test set': 109,\n",
       " 'Confusion matrix of training set': (1176, 129, 151, 77),\n",
       " 'Confusion matrix of test set': (380, 49, 51, 32)}"
      ]
     },
     "execution_count": 12,
     "metadata": {},
     "output_type": "execute_result"
    }
   ],
   "source": [
    "logistic_regression = LogisticRegression(random_state = 42)\n",
    "logistic_regression.fit(X_train, y_train)\n",
    "y_pred = logistic_regression.predict(X_test)\n",
    "print(f\"Accuracy on training set: {logistic_regression.score(X_train, y_train)}\")\n",
    "print(f\"Accuracy on test set: {metrics.accuracy_score(y_test, y_pred)}\\n\")\n",
    "\n",
    "evaluate_thresholds(logistic_regression, X_train, y_train, X_test, y_test)\n",
    "\n",
    "\n"
   ]
  },
  {
   "cell_type": "markdown",
   "metadata": {
    "id": "nJaXmwI1xdz_"
   },
   "source": [
    "# Logistic Regression Tuned and Scaled"
   ]
  },
  {
   "cell_type": "code",
   "execution_count": null,
   "metadata": {
    "colab": {
     "base_uri": "https://localhost:8080/"
    },
    "executionInfo": {
     "elapsed": 4622,
     "status": "ok",
     "timestamp": 1734277027009,
     "user": {
      "displayName": "Szabolcs Bayer",
      "userId": "04758277977212059458"
     },
     "user_tz": -60
    },
    "id": "gelASnie__pu",
    "outputId": "cccbab99-4517-4c76-d40c-21bc74e5ae2d"
   },
   "outputs": [
    {
     "name": "stdout",
     "output_type": "stream",
     "text": [
      "Best Parameters: {'C': 1, 'max_iter': 500, 'penalty': 'l2'}\n",
      "Accuracy on training set:  0.8343118069145466\n",
      "Accuracy on test set: 0.810546875 \n",
      "\n",
      "Threshold: 0.10 -> Profit: -842.00, TP: 227, FP: 886, FN 1, TN 419 ,Threshold: 0.10 \n",
      "Threshold: 0.15 -> Profit: -417.00, TP: 225, FP: 739, FN 3, TN 566 ,Threshold: 0.15 \n",
      "Threshold: 0.20 -> Profit: -75.00, TP: 222, FP: 617, FN 6, TN 688 ,Threshold: 0.20 \n",
      "Threshold: 0.25 -> Profit: 164.00, TP: 217, FP: 524, FN 11, TN 781 ,Threshold: 0.25 \n",
      "Threshold: 0.30 -> Profit: 387.00, TP: 216, FP: 447, FN 12, TN 858 ,Threshold: 0.30 \n",
      "Threshold: 0.35 -> Profit: 507.00, TP: 210, FP: 391, FN 18, TN 914 ,Threshold: 0.35 \n",
      "Threshold: 0.40 -> Profit: 650.00, TP: 205, FP: 330, FN 23, TN 975 ,Threshold: 0.40 \n",
      "Threshold: 0.45 -> Profit: 762.00, TP: 201, FP: 282, FN 27, TN 1023 ,Threshold: 0.45 \n",
      "Threshold: 0.50 -> Profit: 872.00, TP: 190, FP: 216, FN 38, TN 1089 ,Threshold: 0.50 \n",
      "Threshold: 0.55 -> Profit: 903.00, TP: 180, FP: 179, FN 48, TN 1126 ,Threshold: 0.55 \n",
      "Threshold: 0.60 -> Profit: 862.00, TP: 164, FP: 150, FN 64, TN 1155 ,Threshold: 0.60 \n",
      "Threshold: 0.65 -> Profit: 859.00, TP: 152, FP: 119, FN 76, TN 1186 ,Threshold: 0.65 \n",
      "Threshold: 0.70 -> Profit: 806.00, TP: 136, FP: 94, FN 92, TN 1211 ,Threshold: 0.70 \n",
      "Threshold: 0.75 -> Profit: 797.00, TP: 127, FP: 73, FN 101, TN 1232 ,Threshold: 0.75 \n",
      "Threshold: 0.80 -> Profit: 755.00, TP: 112, FP: 47, FN 116, TN 1258 ,Threshold: 0.80 \n",
      "Threshold: 0.85 -> Profit: 637.00, TP: 92, FP: 33, FN 136, TN 1272 ,Threshold: 0.85 \n",
      "Threshold: 0.90 -> Profit: 551.00, TP: 76, FP: 19, FN 152, TN 1286 ,Threshold: 0.90 \n",
      "Threshold: 0.95 -> Profit: 418.00, TP: 56, FP: 10, FN 172, TN 1295 ,Threshold: 0.95 \n"
     ]
    },
    {
     "data": {
      "text/plain": [
       "{'Best Threshold': 0.5500000000000002,\n",
       " 'Best profit on training set': 903,\n",
       " 'Best profit on test set': 316,\n",
       " 'Confusion matrix of training set': (1126, 179, 48, 180),\n",
       " 'Confusion matrix of test set': (361, 68, 18, 65)}"
      ]
     },
     "execution_count": 13,
     "metadata": {},
     "output_type": "execute_result"
    }
   ],
   "source": [
    "logistic_regression_tuned = LogisticRegression(random_state=42, class_weight = \"balanced\")\n",
    "param_grid = {\n",
    "    'penalty': ['l2'], #Only using l2, since this is the one compatible with lfgbs solver\n",
    "    'C': [0.01, 0.1, 1, 10, 100],\n",
    "    'max_iter': [500, 1000, 2000,3000]\n",
    "}\n",
    "grid_search = GridSearchCV(logistic_regression_tuned, param_grid, cv=5, scoring='f1')\n",
    "\n",
    "grid_search.fit(X_train_scaled, y_train)\n",
    "\n",
    "# Get the best parameters and model\n",
    "best_logistic_regression_model = grid_search.best_estimator_\n",
    "print(\"Best Parameters:\", grid_search.best_params_)\n",
    "\n",
    "# Use the best model to make predictions on the test set\n",
    "y_pred = best_logistic_regression_model.predict(X_test_scaled)\n",
    "\n",
    "training_score = best_logistic_regression_model.score(X_train_scaled, y_train)\n",
    "print(\"Accuracy on training set: \", training_score)\n",
    "print(f\"Accuracy on test set: {metrics.accuracy_score(y_test, y_pred)} \\n\")\n",
    "\n",
    "# Evaluate thresholds for the best model\n",
    "evaluate_thresholds(best_logistic_regression_model, X_train_scaled, y_train, X_test_scaled, y_test)"
   ]
  },
  {
   "cell_type": "markdown",
   "metadata": {
    "id": "-qCgQ7UfzHVj"
   },
   "source": [
    "#KNN Without Tuning"
   ]
  },
  {
   "cell_type": "code",
   "execution_count": null,
   "metadata": {
    "colab": {
     "base_uri": "https://localhost:8080/"
    },
    "executionInfo": {
     "elapsed": 6,
     "status": "ok",
     "timestamp": 1734277027010,
     "user": {
      "displayName": "Szabolcs Bayer",
      "userId": "04758277977212059458"
     },
     "user_tz": -60
    },
    "id": "9SJfl8vRmLLJ",
    "outputId": "f0dbd646-124a-48d4-9f88-e7d85e5d49c5"
   },
   "outputs": [
    {
     "name": "stdout",
     "output_type": "stream",
     "text": [
      "Accuracy on training set: 0.8571428571428571\n",
      "Accuracy on test set: 0.818359375\n",
      "\n",
      "Threshold: 0.10 -> Profit: 186.00, TP: 228, FP: 546, FN 0, TN 759 ,Threshold: 0.10 \n",
      "Threshold: 0.15 -> Profit: 186.00, TP: 228, FP: 546, FN 0, TN 759 ,Threshold: 0.15 \n",
      "Threshold: 0.20 -> Profit: 572.00, TP: 130, FP: 156, FN 98, TN 1149 ,Threshold: 0.20 \n",
      "Threshold: 0.25 -> Profit: 572.00, TP: 130, FP: 156, FN 98, TN 1149 ,Threshold: 0.25 \n",
      "Threshold: 0.30 -> Profit: 572.00, TP: 130, FP: 156, FN 98, TN 1149 ,Threshold: 0.30 \n",
      "Threshold: 0.35 -> Profit: 572.00, TP: 130, FP: 156, FN 98, TN 1149 ,Threshold: 0.35 \n",
      "Threshold: 0.40 -> Profit: 227.00, TP: 40, FP: 31, FN 188, TN 1274 ,Threshold: 0.40 \n",
      "Threshold: 0.45 -> Profit: 227.00, TP: 40, FP: 31, FN 188, TN 1274 ,Threshold: 0.45 \n",
      "Threshold: 0.50 -> Profit: 227.00, TP: 40, FP: 31, FN 188, TN 1274 ,Threshold: 0.50 \n",
      "Threshold: 0.55 -> Profit: 227.00, TP: 40, FP: 31, FN 188, TN 1274 ,Threshold: 0.55 \n",
      "Threshold: 0.60 -> Profit: 48.00, TP: 6, FP: 0, FN 222, TN 1305 ,Threshold: 0.60 \n",
      "Threshold: 0.65 -> Profit: 48.00, TP: 6, FP: 0, FN 222, TN 1305 ,Threshold: 0.65 \n",
      "Threshold: 0.70 -> Profit: 48.00, TP: 6, FP: 0, FN 222, TN 1305 ,Threshold: 0.70 \n",
      "Threshold: 0.75 -> Profit: 48.00, TP: 6, FP: 0, FN 222, TN 1305 ,Threshold: 0.75 \n",
      "Threshold: 0.80 -> Profit: 16.00, TP: 2, FP: 0, FN 226, TN 1305 ,Threshold: 0.80 \n",
      "Threshold: 0.85 -> Profit: 16.00, TP: 2, FP: 0, FN 226, TN 1305 ,Threshold: 0.85 \n",
      "Threshold: 0.90 -> Profit: 16.00, TP: 2, FP: 0, FN 226, TN 1305 ,Threshold: 0.90 \n",
      "Threshold: 0.95 -> Profit: 16.00, TP: 2, FP: 0, FN 226, TN 1305 ,Threshold: 0.95 \n"
     ]
    },
    {
     "data": {
      "text/plain": [
       "{'Best Threshold': 0.20000000000000004,\n",
       " 'Best profit on training set': 572,\n",
       " 'Best profit on test set': -38,\n",
       " 'Confusion matrix of training set': (1149, 156, 98, 130),\n",
       " 'Confusion matrix of test set': (371, 58, 66, 17)}"
      ]
     },
     "execution_count": 14,
     "metadata": {},
     "output_type": "execute_result"
    }
   ],
   "source": [
    "knn = KNeighborsClassifier()\n",
    "knn.fit(X_train, y_train)\n",
    "\n",
    "print(f\"Accuracy on training set: {knn.score(X_train, y_train)}\")\n",
    "y_pred = knn.predict(X_test)\n",
    "print(f\"Accuracy on test set: {metrics.accuracy_score(y_test, y_pred)}\\n\")\n",
    "evaluate_thresholds(knn, X_train, y_train, X_test, y_test)"
   ]
  },
  {
   "cell_type": "markdown",
   "metadata": {
    "id": "1xe_AUpTzNYm"
   },
   "source": [
    "#KNN tuned and scaled"
   ]
  },
  {
   "cell_type": "code",
   "execution_count": null,
   "metadata": {
    "colab": {
     "base_uri": "https://localhost:8080/"
    },
    "executionInfo": {
     "elapsed": 2649,
     "status": "ok",
     "timestamp": 1734277029655,
     "user": {
      "displayName": "Szabolcs Bayer",
      "userId": "04758277977212059458"
     },
     "user_tz": -60
    },
    "id": "D23XBWEYGdO3",
    "outputId": "89287851-de31-411c-bf4f-0572f5ba2985"
   },
   "outputs": [
    {
     "name": "stdout",
     "output_type": "stream",
     "text": [
      "Fitting 5 folds for each of 14 candidates, totalling 70 fits\n",
      "Best Parameters for KNN: {'n_neighbors': 13, 'p': 1}\n",
      "Accuracy on training set: 0.8767123287671232\n",
      "Accuracy on test set: 0.865234375\n",
      "Threshold: 0.10 -> Profit: 691.00, TP: 209, FP: 327, FN 19, TN 978 ,Threshold: 0.10 \n",
      "Threshold: 0.15 -> Profit: 691.00, TP: 209, FP: 327, FN 19, TN 978 ,Threshold: 0.15 \n",
      "Threshold: 0.20 -> Profit: 889.00, TP: 179, FP: 181, FN 49, TN 1124 ,Threshold: 0.20 \n",
      "Threshold: 0.25 -> Profit: 825.00, TP: 138, FP: 93, FN 90, TN 1212 ,Threshold: 0.25 \n",
      "Threshold: 0.30 -> Profit: 825.00, TP: 138, FP: 93, FN 90, TN 1212 ,Threshold: 0.30 \n",
      "Threshold: 0.35 -> Profit: 687.00, TP: 105, FP: 51, FN 123, TN 1254 ,Threshold: 0.35 \n",
      "Threshold: 0.40 -> Profit: 484.00, TP: 71, FP: 28, FN 157, TN 1277 ,Threshold: 0.40 \n",
      "Threshold: 0.45 -> Profit: 484.00, TP: 71, FP: 28, FN 157, TN 1277 ,Threshold: 0.45 \n",
      "Threshold: 0.50 -> Profit: 377.00, TP: 52, FP: 13, FN 176, TN 1292 ,Threshold: 0.50 \n",
      "Threshold: 0.55 -> Profit: 302.00, TP: 40, FP: 6, FN 188, TN 1299 ,Threshold: 0.55 \n",
      "Threshold: 0.60 -> Profit: 302.00, TP: 40, FP: 6, FN 188, TN 1299 ,Threshold: 0.60 \n",
      "Threshold: 0.65 -> Profit: 205.00, TP: 26, FP: 1, FN 202, TN 1304 ,Threshold: 0.65 \n",
      "Threshold: 0.70 -> Profit: 149.00, TP: 19, FP: 1, FN 209, TN 1304 ,Threshold: 0.70 \n",
      "Threshold: 0.75 -> Profit: 149.00, TP: 19, FP: 1, FN 209, TN 1304 ,Threshold: 0.75 \n",
      "Threshold: 0.80 -> Profit: 61.00, TP: 8, FP: 1, FN 220, TN 1304 ,Threshold: 0.80 \n",
      "Threshold: 0.85 -> Profit: 40.00, TP: 5, FP: 0, FN 223, TN 1305 ,Threshold: 0.85 \n",
      "Threshold: 0.90 -> Profit: 40.00, TP: 5, FP: 0, FN 223, TN 1305 ,Threshold: 0.90 \n",
      "Threshold: 0.95 -> Profit: 0.00, TP: 0, FP: 0, FN 228, TN 1305 ,Threshold: 0.95 \n"
     ]
    },
    {
     "data": {
      "text/plain": [
       "{'Best Threshold': 0.20000000000000004,\n",
       " 'Best profit on training set': 889,\n",
       " 'Best profit on test set': 293,\n",
       " 'Confusion matrix of training set': (1124, 181, 49, 179),\n",
       " 'Confusion matrix of test set': (356, 73, 19, 64)}"
      ]
     },
     "execution_count": 15,
     "metadata": {},
     "output_type": "execute_result"
    }
   ],
   "source": [
    "knn_tuned = KNeighborsClassifier()\n",
    "\n",
    "param_grid_knn = {\n",
    "    'n_neighbors': [6,7,9,11,13,15,17],\n",
    "    'p': [1, 2]\n",
    "}\n",
    "\n",
    "grid_search_knn = GridSearchCV(estimator=knn_tuned, param_grid=param_grid_knn, cv=5, scoring='accuracy', verbose=1)\n",
    "grid_search_knn.fit(X_train_scaled, y_train)\n",
    "\n",
    "# Get the best parameters and model\n",
    "best_knn_model = grid_search_knn.best_estimator_\n",
    "print(\"Best Parameters for KNN:\", grid_search_knn.best_params_)\n",
    "\n",
    "# Use the best model to make predictions on the scaled test set\n",
    "y_pred_knn = best_knn_model.predict(X_test_scaled)\n",
    "\n",
    "# Training and test accuracy\n",
    "training_score_knn = best_knn_model.score(X_train_scaled, y_train)\n",
    "print(\"Accuracy on training set:\", training_score_knn)\n",
    "print(f\"Accuracy on test set: {metrics.accuracy_score(y_test, y_pred_knn)}\")\n",
    "\n",
    "evaluate_thresholds(best_knn_model, X_train_scaled, y_train, X_test_scaled, y_test)"
   ]
  },
  {
   "cell_type": "markdown",
   "metadata": {
    "id": "iUA3cjTZFAD0"
   },
   "source": [
    "#RandomForestClassifier Without Tuning"
   ]
  },
  {
   "cell_type": "code",
   "execution_count": null,
   "metadata": {
    "colab": {
     "base_uri": "https://localhost:8080/"
    },
    "executionInfo": {
     "elapsed": 748,
     "status": "ok",
     "timestamp": 1734277030400,
     "user": {
      "displayName": "Szabolcs Bayer",
      "userId": "04758277977212059458"
     },
     "user_tz": -60
    },
    "id": "oljcuoBxEjl9",
    "outputId": "c5e56bfd-487c-4f5f-a6fd-656d76bbeb1c"
   },
   "outputs": [
    {
     "name": "stdout",
     "output_type": "stream",
     "text": [
      "Accuracy on training set: 0.9934768427919113\n",
      "Accuracy on test set: 0.86328125\n",
      "\n",
      "Threshold: 0.10 -> Profit: 1263.00, TP: 228, FP: 187, FN 0, TN 1118 ,Threshold: 0.10 \n",
      "Threshold: 0.15 -> Profit: 1632.00, TP: 228, FP: 64, FN 0, TN 1241 ,Threshold: 0.15 \n",
      "Threshold: 0.20 -> Profit: 1752.00, TP: 228, FP: 24, FN 0, TN 1281 ,Threshold: 0.20 \n",
      "Threshold: 0.25 -> Profit: 1779.00, TP: 228, FP: 15, FN 0, TN 1290 ,Threshold: 0.25 \n",
      "Threshold: 0.30 -> Profit: 1788.00, TP: 228, FP: 12, FN 0, TN 1293 ,Threshold: 0.30 \n",
      "Threshold: 0.35 -> Profit: 1794.00, TP: 228, FP: 10, FN 0, TN 1295 ,Threshold: 0.35 \n",
      "Threshold: 0.40 -> Profit: 1789.00, TP: 227, FP: 9, FN 1, TN 1296 ,Threshold: 0.40 \n",
      "Threshold: 0.45 -> Profit: 1774.00, TP: 224, FP: 6, FN 4, TN 1299 ,Threshold: 0.45 \n",
      "Threshold: 0.50 -> Profit: 1754.00, TP: 220, FP: 2, FN 8, TN 1303 ,Threshold: 0.50 \n",
      "Threshold: 0.55 -> Profit: 1744.00, TP: 218, FP: 0, FN 10, TN 1305 ,Threshold: 0.55 \n",
      "Threshold: 0.60 -> Profit: 1704.00, TP: 213, FP: 0, FN 15, TN 1305 ,Threshold: 0.60 \n",
      "Threshold: 0.65 -> Profit: 1584.00, TP: 198, FP: 0, FN 30, TN 1305 ,Threshold: 0.65 \n",
      "Threshold: 0.70 -> Profit: 1360.00, TP: 170, FP: 0, FN 58, TN 1305 ,Threshold: 0.70 \n",
      "Threshold: 0.75 -> Profit: 1000.00, TP: 125, FP: 0, FN 103, TN 1305 ,Threshold: 0.75 \n",
      "Threshold: 0.80 -> Profit: 656.00, TP: 82, FP: 0, FN 146, TN 1305 ,Threshold: 0.80 \n",
      "Threshold: 0.85 -> Profit: 312.00, TP: 39, FP: 0, FN 189, TN 1305 ,Threshold: 0.85 \n",
      "Threshold: 0.90 -> Profit: 72.00, TP: 9, FP: 0, FN 219, TN 1305 ,Threshold: 0.90 \n",
      "Threshold: 0.95 -> Profit: 8.00, TP: 1, FP: 0, FN 227, TN 1305 ,Threshold: 0.95 \n"
     ]
    },
    {
     "data": {
      "text/plain": [
       "{'Best Threshold': 0.3500000000000001,\n",
       " 'Best profit on training set': 1794,\n",
       " 'Best profit on test set': 303,\n",
       " 'Confusion matrix of training set': (1295, 10, 0, 228),\n",
       " 'Confusion matrix of test set': (394, 35, 32, 51)}"
      ]
     },
     "execution_count": 16,
     "metadata": {},
     "output_type": "execute_result"
    }
   ],
   "source": [
    "rfc = RandomForestClassifier(random_state = 42)\n",
    "rfc.fit(X_train, y_train)\n",
    "print(f\"Accuracy on training set: {rfc.score(X_train, y_train)}\")\n",
    "y_pred=rfc.predict(X_test)\n",
    "print(f\"Accuracy on test set: {metrics.accuracy_score(y_test, y_pred)}\\n\")\n",
    "evaluate_thresholds(rfc, X_train, y_train, X_test, y_test)"
   ]
  },
  {
   "cell_type": "markdown",
   "metadata": {
    "id": "jUNZwq73H1XL"
   },
   "source": [
    "#RFC Tuned without scaling"
   ]
  },
  {
   "cell_type": "code",
   "execution_count": null,
   "metadata": {
    "colab": {
     "base_uri": "https://localhost:8080/"
    },
    "executionInfo": {
     "elapsed": 14551,
     "status": "ok",
     "timestamp": 1734277044948,
     "user": {
      "displayName": "Szabolcs Bayer",
      "userId": "04758277977212059458"
     },
     "user_tz": -60
    },
    "id": "23GwT8JFHzJb",
    "outputId": "e30d2b75-3db3-4fcb-b06e-58f2512c2af3"
   },
   "outputs": [
    {
     "name": "stdout",
     "output_type": "stream",
     "text": [
      "Fitting 5 folds for each of 9 candidates, totalling 45 fits\n",
      "Best Parameters: {'max_depth': 5, 'n_estimators': 100}\n",
      "Accuracy on training set:  0.8962818003913894\n",
      "Accuracy on test set: 0.857421875\n",
      "Threshold: 0.10 -> Profit: -1764.00, TP: 228, FP: 1196, FN 0, TN 109 ,Threshold: 0.10 \n",
      "Threshold: 0.15 -> Profit: -1287.00, TP: 228, FP: 1037, FN 0, TN 268 ,Threshold: 0.15 \n",
      "Threshold: 0.20 -> Profit: -819.00, TP: 228, FP: 881, FN 0, TN 424 ,Threshold: 0.20 \n",
      "Threshold: 0.25 -> Profit: -269.00, TP: 227, FP: 695, FN 1, TN 610 ,Threshold: 0.25 \n",
      "Threshold: 0.30 -> Profit: 121.00, TP: 227, FP: 565, FN 1, TN 740 ,Threshold: 0.30 \n",
      "Threshold: 0.35 -> Profit: 470.00, TP: 220, FP: 430, FN 8, TN 875 ,Threshold: 0.35 \n",
      "Threshold: 0.40 -> Profit: 797.00, TP: 217, FP: 313, FN 11, TN 992 ,Threshold: 0.40 \n",
      "Threshold: 0.45 -> Profit: 989.00, TP: 202, FP: 209, FN 26, TN 1096 ,Threshold: 0.45 \n",
      "Threshold: 0.50 -> Profit: 1127.00, TP: 184, FP: 115, FN 44, TN 1190 ,Threshold: 0.50 \n",
      "Threshold: 0.55 -> Profit: 1150.00, TP: 167, FP: 62, FN 61, TN 1243 ,Threshold: 0.55 \n",
      "Threshold: 0.60 -> Profit: 1064.00, TP: 145, FP: 32, FN 83, TN 1273 ,Threshold: 0.60 \n",
      "Threshold: 0.65 -> Profit: 891.00, TP: 117, FP: 15, FN 111, TN 1290 ,Threshold: 0.65 \n",
      "Threshold: 0.70 -> Profit: 715.00, TP: 92, FP: 7, FN 136, TN 1298 ,Threshold: 0.70 \n",
      "Threshold: 0.75 -> Profit: 554.00, TP: 70, FP: 2, FN 158, TN 1303 ,Threshold: 0.75 \n",
      "Threshold: 0.80 -> Profit: 373.00, TP: 47, FP: 1, FN 181, TN 1304 ,Threshold: 0.80 \n",
      "Threshold: 0.85 -> Profit: 176.00, TP: 22, FP: 0, FN 206, TN 1305 ,Threshold: 0.85 \n",
      "Threshold: 0.90 -> Profit: 24.00, TP: 3, FP: 0, FN 225, TN 1305 ,Threshold: 0.90 \n",
      "Threshold: 0.95 -> Profit: 0.00, TP: 0, FP: 0, FN 228, TN 1305 ,Threshold: 0.95 \n"
     ]
    },
    {
     "data": {
      "text/plain": [
       "{'Best Threshold': 0.5500000000000002,\n",
       " 'Best profit on training set': 1150,\n",
       " 'Best profit on test set': 357,\n",
       " 'Confusion matrix of training set': (1243, 62, 61, 167),\n",
       " 'Confusion matrix of test set': (396, 33, 26, 57)}"
      ]
     },
     "execution_count": 17,
     "metadata": {},
     "output_type": "execute_result"
    }
   ],
   "source": [
    "rfc_tuned = RandomForestClassifier(random_state=42, class_weight=\"balanced\")\n",
    "\n",
    "param_grid = {\n",
    "    'n_estimators': [50, 100, 200],\n",
    "    'max_depth': [3,4,5],\n",
    "    #'criterion': ['gini', 'entropy'],        # Didn't improve performance -> taken out for less fits\n",
    "    #'max_f#eatures': ['sqrt', 'log2'],       # Didn't improve performance -> taken out for less fits\n",
    "    #'bootstrap': [True, False]               # Didn't improve performance -> taken out for less fits\n",
    "}\n",
    "\n",
    "grid_search = GridSearchCV(estimator=rfc_tuned, param_grid=param_grid, cv=5, scoring='f1', verbose=1)\n",
    "grid_search.fit(X_train, y_train)\n",
    "\n",
    "# Get the best parameters and model\n",
    "best_decision_tree_model = grid_search.best_estimator_\n",
    "print(\"Best Parameters:\", grid_search.best_params_)\n",
    "\n",
    "# Use the best model to make predictions on the test set\n",
    "y_pred = best_decision_tree_model.predict(X_test)\n",
    "\n",
    "training_score = best_decision_tree_model.score(X_train, y_train)\n",
    "print(\"Accuracy on training set: \", training_score)\n",
    "print(f\"Accuracy on test set: {metrics.accuracy_score(y_test, y_pred)}\")\n",
    "\n",
    "\n",
    "evaluate_thresholds(best_decision_tree_model,  X_train, y_train, X_test, y_test)"
   ]
  },
  {
   "cell_type": "code",
   "execution_count": null,
   "metadata": {
    "id": "xSLeUsiAJEcE"
   },
   "outputs": [],
   "source": []
  }
 ],
 "metadata": {
  "colab": {
   "provenance": []
  },
  "kernelspec": {
   "display_name": "Python 3",
   "name": "python3"
  },
  "language_info": {
   "codemirror_mode": {
    "name": "ipython",
    "version": 3
   },
   "file_extension": ".py",
   "mimetype": "text/x-python",
   "name": "python",
   "nbconvert_exporter": "python",
   "pygments_lexer": "ipython3",
   "version": "3.13.1"
  }
 },
 "nbformat": 4,
 "nbformat_minor": 0
}
